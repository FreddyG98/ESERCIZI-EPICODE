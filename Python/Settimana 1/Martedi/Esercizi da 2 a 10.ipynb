{
 "cells": [
  {
   "cell_type": "markdown",
   "id": "cce60772-2b8a-4d00-a468-5dd7e4dbad28",
   "metadata": {},
   "source": [
    "Esercizio 1: Individuiamo tre task di qualsiasi tipo (fare la spesa, studiare un concetto, riempire il serbatoio dell'auto, acquistare uno snack da un distributore automatico, o qualunque altra cosa); \n",
    "Scriviamo un algoritmo (in forma testuale), cioè i passi necessari, per ognuno dei task selezionati.\n",
    "\n",
    "•\tMontaggio albero natalizio: \n",
    "    1.\tMontare la base; \n",
    "    2.\tMontare il fusto dell’albero;\n",
    "    3.\tMontare i rami;\n",
    "    4.\tAprire i rami;\n",
    "    5.\tAddobbare l’albero;\n",
    "    6.\tMettere il puntale.\n",
    "•\tPartenza auto:\n",
    "    1.\tSistemazione sediolino;\n",
    "    2.\tSistemazione specchietti;\n",
    "    3.\tInserimento cintura;\n",
    "    4.\tAccensione motore;\n",
    "    5.\tControllo spie;\n",
    "    6.\tRimozione freno a mano;\n",
    "    7.\tPartenza.\n",
    "•\tPortate in un/una tipico/a pranzo/cena:\n",
    "    1.\tAntipasti;\n",
    "    2.\tPrimi piatti;\n",
    "    3.\tSecondi piatti;\n",
    "    4.\tContorni;\n",
    "    5.\tDolci;\n",
    "    6.\tCaffè/Amari.\n"
   ]
  },
  {
   "cell_type": "code",
   "execution_count": 80,
   "id": "95d545e6-9a96-4e27-8e63-b0b8c73d8963",
   "metadata": {},
   "outputs": [],
   "source": [
    "# Esercizio 2: Abbiamo 25 studenti; memorizzare questo dato in una variabile. \n",
    "\n",
    "N_Studenti = 25"
   ]
  },
  {
   "cell_type": "code",
   "execution_count": 81,
   "id": "b0e3580a-dcde-4f56-9a9c-e2fceb0c38bd",
   "metadata": {
    "jupyter": {
     "source_hidden": true
    },
    "scrolled": true
   },
   "outputs": [
    {
     "data": {
      "text/plain": [
       "25"
      ]
     },
     "execution_count": 81,
     "metadata": {},
     "output_type": "execute_result"
    }
   ],
   "source": [
    "# Esercizio 3: Abbiamo 25 studenti; memorizzare questo dato in una variabile e stamparla a video.\n",
    "\n",
    "N_Studenti"
   ]
  },
  {
   "cell_type": "code",
   "execution_count": 82,
   "id": "e075e545-d5c8-4ea8-aa75-a6909c3607dd",
   "metadata": {},
   "outputs": [
    {
     "name": "stdout",
     "output_type": "stream",
     "text": [
      "25\n"
     ]
    }
   ],
   "source": [
    "# Esercizio 3: Abbiamo 25 studenti; memorizzare questo dato in una variabile e stamparla a video.\n",
    "\n",
    "print(N_Studenti)"
   ]
  },
  {
   "cell_type": "code",
   "execution_count": 83,
   "id": "a875d7fc-e241-4cce-84e9-34dfc6cbadf4",
   "metadata": {},
   "outputs": [
    {
     "name": "stdout",
     "output_type": "stream",
     "text": [
      "3\n"
     ]
    }
   ],
   "source": [
    "# Esercizio 4: Arrivano altri 3 studenti; memorizzare questo dato in un'altra variabile.\n",
    "\n",
    "Studenti_nuovi = 3\n",
    "print(Studenti_nuovi)"
   ]
  },
  {
   "cell_type": "code",
   "execution_count": 84,
   "id": "b6c3ae51-8588-49f0-9a63-d86bb1fff3b3",
   "metadata": {},
   "outputs": [
    {
     "name": "stdout",
     "output_type": "stream",
     "text": [
      "Il numero totale degli studenti è: 28\n"
     ]
    }
   ],
   "source": [
    "# Esercizio 5: Creare un'altra variabile ancora che conterrà la somma delle prime due, poi stamparla a video.\n",
    "\n",
    "TOT_Studenti = N_Studenti + Studenti_nuovi\n",
    "print(\"Il numero totale degli studenti è:\", TOT_Studenti)"
   ]
  },
  {
   "cell_type": "code",
   "execution_count": 85,
   "id": "59f0aa61-557d-491f-aedd-3d70a334cb2b",
   "metadata": {},
   "outputs": [
    {
     "name": "stdout",
     "output_type": "stream",
     "text": [
      "EPICODE."
     ]
    }
   ],
   "source": [
    "# Esercizio 6: Creare una variabile che contiene la stringa \"Epicode\", quindi stamparla a video.\n",
    "\n",
    "Testo = 'EPICODE'\n",
    "print(Testo, end = \".\")"
   ]
  },
  {
   "cell_type": "code",
   "execution_count": 86,
   "id": "3ae24dd0-880c-49f5-a109-beed513a937f",
   "metadata": {},
   "outputs": [
    {
     "name": "stdout",
     "output_type": "stream",
     "text": [
      "36\n"
     ]
    }
   ],
   "source": [
    "# Esercizio 7: Abbiamo la variabile: x = 10. Incrementarla di 2 e poi moltiplicarla per 3. Usare due metodi diversi (ad esempio, uno utilizzando gli operatori di assegnazione, e uno senza)\n",
    "\n",
    "# metodo 1\n",
    "x = 10\n",
    "x += 2\n",
    "x *= 3 \n",
    "print(x)"
   ]
  },
  {
   "cell_type": "code",
   "execution_count": 87,
   "id": "92f5be23-7b96-4dc1-9ab2-57db77049fbb",
   "metadata": {},
   "outputs": [
    {
     "name": "stdout",
     "output_type": "stream",
     "text": [
      "36\n"
     ]
    }
   ],
   "source": [
    "# metodo 2 \n",
    "x = 10\n",
    "x = x + 2\n",
    "x = x * 3\n",
    "print(x)"
   ]
  },
  {
   "cell_type": "code",
   "execution_count": 88,
   "id": "186f6b10-2fb6-49ba-8080-1e47abed95f8",
   "metadata": {},
   "outputs": [
    {
     "name": "stdout",
     "output_type": "stream",
     "text": [
      "36\n"
     ]
    }
   ],
   "source": [
    "# metodo 3\n",
    "x = (10 + 2) * 3\n",
    "print(x)"
   ]
  },
  {
   "cell_type": "code",
   "execution_count": 89,
   "id": "52587b64-cfab-4798-af58-a82558c19cbb",
   "metadata": {},
   "outputs": [
    {
     "data": {
      "text/plain": [
       "7"
      ]
     },
     "execution_count": 89,
     "metadata": {},
     "output_type": "execute_result"
    }
   ],
   "source": [
    "# Esercizio 8: Verificare, per ognuna delle seguenti stringhe, se il numero di caratteri è compreso tra 5 e 8: \n",
    "str1 = \"Windows\" \n",
    "\n",
    "len(str1)"
   ]
  },
  {
   "cell_type": "code",
   "execution_count": 90,
   "id": "2c3a81de-52fb-4fd7-8fda-69e02b748c68",
   "metadata": {},
   "outputs": [
    {
     "data": {
      "text/plain": [
       "5"
      ]
     },
     "execution_count": 90,
     "metadata": {},
     "output_type": "execute_result"
    }
   ],
   "source": [
    "str2 = \"Excel\" \n",
    "\n",
    "len(str2)"
   ]
  },
  {
   "cell_type": "code",
   "execution_count": 91,
   "id": "ce6d25b5-15ba-4473-bc54-cc27b2f5cfb4",
   "metadata": {},
   "outputs": [
    {
     "data": {
      "text/plain": [
       "10"
      ]
     },
     "execution_count": 91,
     "metadata": {},
     "output_type": "execute_result"
    }
   ],
   "source": [
    "str3 = \"Powerpoint\" \n",
    "\n",
    "len(str3)"
   ]
  },
  {
   "cell_type": "code",
   "execution_count": 92,
   "id": "307bbf6f-9d02-406a-94fb-7dd61731c844",
   "metadata": {},
   "outputs": [
    {
     "data": {
      "text/plain": [
       "4"
      ]
     },
     "execution_count": 92,
     "metadata": {},
     "output_type": "execute_result"
    }
   ],
   "source": [
    "str4 = \"Word\"\n",
    "\n",
    "len(str4)"
   ]
  },
  {
   "cell_type": "code",
   "execution_count": 93,
   "id": "a9156949-ccaa-4197-abc2-fa72e17296af",
   "metadata": {},
   "outputs": [
    {
     "name": "stdout",
     "output_type": "stream",
     "text": [
      "7 \n",
      " 5 \n",
      " 10 \n",
      " 4\n"
     ]
    }
   ],
   "source": [
    "str1 = \"Windows\" \n",
    "str2 = \"Excel\" \n",
    "str3 = \"Powerpoint\" \n",
    "str4 = \"Word\"\n",
    "\n",
    "print(len(str1), \"\\n\", len(str2), \"\\n\", len(str3), \"\\n\", len(str4))"
   ]
  },
  {
   "cell_type": "code",
   "execution_count": 94,
   "id": "b6761f96-130b-4263-b801-c0f29b09cdbd",
   "metadata": {},
   "outputs": [
    {
     "data": {
      "text/plain": [
       "31536000"
      ]
     },
     "execution_count": 94,
     "metadata": {},
     "output_type": "execute_result"
    }
   ],
   "source": [
    "# Esercizio 9: Calcolare e stampare a video quanti secondi ci sono in un anno non bisestile.\n",
    "# METODO 1\n",
    "x = 365 * 24 * 60 * 60\n",
    "x"
   ]
  },
  {
   "cell_type": "code",
   "execution_count": 95,
   "id": "6f7889b7-a579-446a-ab3d-cbfd53ace5b3",
   "metadata": {},
   "outputs": [
    {
     "data": {
      "text/plain": [
       "31536000"
      ]
     },
     "execution_count": 95,
     "metadata": {},
     "output_type": "execute_result"
    }
   ],
   "source": [
    "# METODO 2\n",
    "x = 365\n",
    "x *= 24\n",
    "x *= 60\n",
    "x *= 60\n",
    "x"
   ]
  },
  {
   "cell_type": "code",
   "execution_count": 96,
   "id": "c81acb6e-dff9-42a4-b498-6c4c1e9d04fb",
   "metadata": {},
   "outputs": [
    {
     "data": {
      "text/plain": [
       "31536000"
      ]
     },
     "execution_count": 96,
     "metadata": {},
     "output_type": "execute_result"
    }
   ],
   "source": [
    "# METODO 3\n",
    "x = 365\n",
    "x = x * 24\n",
    "x = x * 60\n",
    "x = x * 60\n",
    "x"
   ]
  },
  {
   "cell_type": "code",
   "execution_count": 97,
   "id": "ce5c560b-5271-44e3-97ea-ac4264855100",
   "metadata": {},
   "outputs": [
    {
     "name": "stdout",
     "output_type": "stream",
     "text": [
      "31536000\n"
     ]
    }
   ],
   "source": [
    "# METODO 4\n",
    "sec = 60\n",
    "minu = 60\n",
    "ore = 24\n",
    "giorni = 365\n",
    "sec_per_anno = giorni * ore * minu * sec\n",
    "\n",
    "print(sec_per_anno)"
   ]
  },
  {
   "cell_type": "code",
   "execution_count": 104,
   "id": "6246ca13-d582-4d2b-baaa-3e4b7a9a1863",
   "metadata": {},
   "outputs": [
    {
     "name": "stdout",
     "output_type": "stream",
     "text": [
      "I AM STUDYING PYTHON\n"
     ]
    }
   ],
   "source": [
    "# Esercizio 10: Abbiamo la seguente stringa: \n",
    "my_string = \"I am studying Python\" \n",
    "\n",
    "# Trasformarla in modo che tutti i caratteri siano maiuscoli (uppercase) \n",
    "my_string = my_string.upper()\n",
    "print(my_string)"
   ]
  },
  {
   "cell_type": "code",
   "execution_count": 105,
   "id": "95c8fc3e-ee9a-4112-a882-ddb46193dac3",
   "metadata": {},
   "outputs": [
    {
     "name": "stdout",
     "output_type": "stream",
     "text": [
      "i am studying python\n"
     ]
    }
   ],
   "source": [
    "my_string = \"I am studying Python\" \n",
    "\n",
    "# Trasformarla in modo che tutti i caratteri siano minuscoli (lowercase)\n",
    "my_string = my_string.lower()\n",
    "print(my_string)"
   ]
  },
  {
   "cell_type": "code",
   "execution_count": 106,
   "id": "28f4d85d-76da-46cb-b5ec-67f8ab8825ec",
   "metadata": {},
   "outputs": [
    {
     "name": "stdout",
     "output_type": "stream",
     "text": [
      "I am studying a lot\n"
     ]
    }
   ],
   "source": [
    "my_string = \"I am studying Python\" \n",
    "\n",
    "# Sostituire la sottostringa \"Python\" con la stringa \"a lot\"\n",
    "# METODO 1\n",
    "my_string = my_string.replace(\"I am studying Python\", \"I am studying a lot\")\n",
    "print(my_string)"
   ]
  },
  {
   "cell_type": "code",
   "execution_count": 108,
   "id": "c9d5685b-4b3b-4b36-835f-f21bdb44b14f",
   "metadata": {},
   "outputs": [
    {
     "name": "stdout",
     "output_type": "stream",
     "text": [
      "I am studying a lot\n"
     ]
    }
   ],
   "source": [
    "my_string = \"I am studying Python\" \n",
    "\n",
    "# METODO 2\n",
    "my_string = my_string.replace(\"Python\", \"a lot\")\n",
    "print(my_string)"
   ]
  },
  {
   "cell_type": "code",
   "execution_count": 102,
   "id": "2ce69893-9971-49be-8447-a3621709b698",
   "metadata": {},
   "outputs": [
    {
     "name": "stdout",
     "output_type": "stream",
     "text": [
      "I am studying a lot\n"
     ]
    }
   ],
   "source": [
    "my_string = \"I am studying Python\" \n",
    "\n",
    "# Usare il metodo .strip(); cambia qualcosa? Perché? \n",
    "my_string = my_string.strip(\" Python\")\n",
    "print((my_string), \"a lot\")"
   ]
  },
  {
   "cell_type": "code",
   "execution_count": 103,
   "id": "6e4de679-a643-4e94-8ccc-952ce2783080",
   "metadata": {},
   "outputs": [
    {
     "name": "stdout",
     "output_type": "stream",
     "text": [
      "Help on method_descriptor:\n",
      "\n",
      "strip(self, chars=None, /) unbound builtins.str method\n",
      "    Return a copy of the string with leading and trailing whitespace removed.\n",
      "\n",
      "    If chars is given and not None, remove characters in chars instead.\n",
      "\n"
     ]
    }
   ],
   "source": [
    "help(str.strip)"
   ]
  },
  {
   "cell_type": "code",
   "execution_count": null,
   "id": "dd5492c4-051e-488d-8575-110ef3cd6f6d",
   "metadata": {},
   "outputs": [],
   "source": []
  }
 ],
 "metadata": {
  "kernelspec": {
   "display_name": "Python 3 (ipykernel)",
   "language": "python",
   "name": "python3"
  },
  "language_info": {
   "codemirror_mode": {
    "name": "ipython",
    "version": 3
   },
   "file_extension": ".py",
   "mimetype": "text/x-python",
   "name": "python",
   "nbconvert_exporter": "python",
   "pygments_lexer": "ipython3",
   "version": "3.12.7"
  }
 },
 "nbformat": 4,
 "nbformat_minor": 5
}
