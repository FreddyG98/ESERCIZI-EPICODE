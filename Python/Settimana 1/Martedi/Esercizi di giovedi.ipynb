{
 "cells": [
  {
   "cell_type": "code",
   "execution_count": 20,
   "id": "c7861991-eb76-4de6-b033-6b62011dc97e",
   "metadata": {},
   "outputs": [
    {
     "name": "stdout",
     "output_type": "stream",
     "text": [
      "E\n",
      "p\n",
      "i\n",
      "c\n",
      "o\n",
      "d\n",
      "e\n"
     ]
    }
   ],
   "source": [
    "# Esercizio 1: Abbiamo la stringa: \n",
    "nome_scuola = \"Epicode\" \n",
    "# Stampare ogni carattere della stringa, uno su ogni riga, utilizzando un costrutto while.\n",
    "\n",
    "index = 0       # INDICE DELLA VARIABILE NOME_SCUOLA\n",
    "\n",
    "while index < len(nome_scuola):\n",
    "    print (nome_scuola[index])\n",
    "    index += 1\n",
    "# LA STRINGA è ITERABILE"
   ]
  },
  {
   "cell_type": "code",
   "execution_count": 14,
   "id": "4b19f1eb-6753-4e1e-bc93-531069374d15",
   "metadata": {
    "scrolled": true
   },
   "outputs": [
    {
     "name": "stdout",
     "output_type": "stream",
     "text": [
      "E\n",
      "p\n",
      "i\n",
      "c\n",
      "o\n",
      "d\n",
      "e\n"
     ]
    }
   ],
   "source": [
    "# METODO 2:\n",
    "nome_scuola = \"Epicode\" \n",
    "spelling = list(nome_scuola)        #HO TRASFORMATO LA STRINGA IN UNA LISTA\n",
    "index = 0                           #HO CREATO LA VARIABILE INDEX PER L'INDICIZZAZIONE DI SPELLING\n",
    "\n",
    "while index < len(nome_scuola):\n",
    "    print(spelling[index])\n",
    "    index += 1"
   ]
  },
  {
   "cell_type": "code",
   "execution_count": 21,
   "id": "95806255-3653-47e7-86c2-ebc692b404f4",
   "metadata": {},
   "outputs": [
    {
     "name": "stdout",
     "output_type": "stream",
     "text": [
      "['E', 'p', 'i', 'c', 'o', 'd', 'e']\n"
     ]
    }
   ],
   "source": [
    "# PROVA PER CERCARE DI TRASFORMARE LA STRINGA IN LISTA:\n",
    "nome_scuola = \"Epicode\" \n",
    "spelling = list(nome_scuola)\n",
    "\n",
    "print(spelling)"
   ]
  },
  {
   "cell_type": "code",
   "execution_count": 23,
   "id": "bc5f1aba-808d-4838-b91c-b588f1b218e9",
   "metadata": {},
   "outputs": [
    {
     "name": "stdout",
     "output_type": "stream",
     "text": [
      "0\n",
      "1\n",
      "2\n",
      "3\n",
      "4\n",
      "5\n",
      "6\n",
      "7\n",
      "8\n",
      "9\n",
      "10\n",
      "11\n",
      "12\n",
      "13\n",
      "14\n",
      "15\n",
      "16\n",
      "17\n",
      "18\n",
      "19\n",
      "20\n"
     ]
    }
   ],
   "source": [
    "# Esercizio 2: Stampare a video tutti i numeri da 0 a 20 utilizzando il costrutto while.\n",
    "\n",
    "partenza = 0\n",
    "\n",
    "while partenza <= 20: \n",
    "    print (partenza)\n",
    "    partenza += 1"
   ]
  },
  {
   "cell_type": "code",
   "execution_count": 30,
   "id": "94ed2ab9-7bcb-40d4-9790-95f73853a832",
   "metadata": {},
   "outputs": [
    {
     "name": "stdout",
     "output_type": "stream",
     "text": [
      "1\n",
      "2\n",
      "4\n",
      "8\n",
      "16\n",
      "32\n",
      "64\n",
      "128\n",
      "256\n",
      "512\n",
      "1024\n"
     ]
    }
   ],
   "source": [
    "# Esercizio 3: Calcolare e stampare tutte le prime 10 potenze di 2 (e.g., 2⁰, 2¹, 2², …) utilizzando un ciclo while.\n",
    "\n",
    "partenza = pow(2,0)\n",
    "\n",
    "while partenza <= pow(2,10):\n",
    "    print(partenza)\n",
    "    partenza *= 2"
   ]
  },
  {
   "cell_type": "code",
   "execution_count": 33,
   "id": "727a8a6f-ff5d-48d9-973e-362f3881f92d",
   "metadata": {},
   "outputs": [
    {
     "name": "stdin",
     "output_type": "stream",
     "text": [
      "Fino a che potenza di 2 vuoi calcolare:  13\n"
     ]
    },
    {
     "name": "stdout",
     "output_type": "stream",
     "text": [
      "1\n",
      "2\n",
      "4\n",
      "8\n",
      "16\n",
      "32\n",
      "64\n",
      "128\n",
      "256\n",
      "512\n",
      "1024\n",
      "2048\n",
      "4096\n",
      "8192\n"
     ]
    }
   ],
   "source": [
    "# Esercizio 4: Calcolare e stampare tutte le prime N potenze di 2 utilizzando un ciclo while, domandando all'utente di inserire N.\n",
    "\n",
    "utente = int(input(\"Fino a che potenza di 2 vuoi calcolare: \"))\n",
    "potenza = pow(2,utente)\n",
    "partenza = pow(2,0)\n",
    "\n",
    "while partenza <= potenza:\n",
    "    print (partenza)\n",
    "    partenza *= 2"
   ]
  },
  {
   "cell_type": "code",
   "execution_count": 36,
   "id": "fe417cd8-237f-4787-ad8a-4ba27ea0c2a0",
   "metadata": {},
   "outputs": [
    {
     "name": "stdout",
     "output_type": "stream",
     "text": [
      "1\n",
      "2\n",
      "4\n",
      "8\n",
      "16\n",
      "32\n",
      "64\n",
      "128\n",
      "256\n",
      "512\n",
      "1024\n",
      "2048\n",
      "4096\n",
      "8192\n",
      "16384\n"
     ]
    }
   ],
   "source": [
    "# Esercizio 5: Calcolare e stampare tutte le potenze di 2 minori di 25000.\n",
    "\n",
    "partenza = pow(2,0)\n",
    "\n",
    "while partenza < 25000:\n",
    "    print (partenza)\n",
    "    partenza *= 2"
   ]
  },
  {
   "cell_type": "code",
   "execution_count": 53,
   "id": "7eed9907-4060-4acc-86f5-ba7707edb27d",
   "metadata": {},
   "outputs": [
    {
     "name": "stdout",
     "output_type": "stream",
     "text": [
      "8 studenti:\n",
      "['Alex', 'Bob', 'Cindy', 'Dan', 'Emma', 'Faith', 'Grace', 'Henry'] \n",
      "\n",
      "6 corsi:\n",
      "['Cybersecurity', 'Data Analyst', 'Backend', 'Frontend', 'Data Analyst', 'Backend'] \n",
      "\n",
      "8 studenti:\n",
      "['Alex', 'Bob', 'Cindy', 'Dan', 'Emma', 'Faith', 'Grace', 'Henry'] \n",
      "\n",
      "8 corsi:\n",
      "['Cybersecurity', 'Data Analyst', 'Backend', 'Frontend', 'Data Analyst', 'Backend', 'Frontend', 'Cybersecurity']\n"
     ]
    }
   ],
   "source": [
    "# Esercizio 6: Abbiamo due liste, una di studenti e una di corsi: \n",
    "studenti = [\"Alex\", \"Bob\", \"Cindy\", \"Dan\", \"Emma\", \"Faith\", \"Grace\", \"Henry\"] \n",
    "corsi = [\"Cybersecurity\", \"Data Analyst\", \"Backend\", \"Frontend\", \"Data Analyst\", \"Backend\"]\n",
    "\n",
    "# Aggiungere i dati mancanti alla lista corsi, sapendo che: Emma segue Data Analyst, Faith segue Backend, Grace segue Frontend, Henry segue Cybersecurity.\n",
    "# Aggiungeremo i dati mancanti uno alla volta con il metodo per appendere in coda alle liste, poi verificheremo che sono della stessa lunghezza e se lo sono stamperemo la lista corsi. \n",
    "# Se alcuni dati sono già presenti non vanno aggiunti di nuovo.\n",
    "\n",
    "print(len(studenti), \"studenti:\")            \n",
    "print(studenti, \"\\n\")\n",
    "\n",
    "print(len(corsi), \"corsi:\")            # MANCANO GRACE (FRONTEND), HENRY (CYBERCISURITY).\n",
    "print(corsi, \"\\n\")\n",
    "\n",
    "corsi.append(\"Frontend\")\n",
    "corsi.append(\"Cybersecurity\")\n",
    "\n",
    "print(len(studenti), \"studenti:\")            \n",
    "print(studenti, \"\\n\")\n",
    "\n",
    "print(len(corsi), \"corsi:\")           \n",
    "print(corsi)"
   ]
  },
  {
   "cell_type": "code",
   "execution_count": 95,
   "id": "58c5e41a-c775-451f-9ccf-68f563a8fd5b",
   "metadata": {},
   "outputs": [
    {
     "name": "stdin",
     "output_type": "stream",
     "text": [
      "Scrivi una stringa da riassumere che contenga piu di 6 caratteri:  bobo\n"
     ]
    },
    {
     "name": "stdout",
     "output_type": "stream",
     "text": [
      "la stringa è troppo corta, per favore scriverne un altra\n"
     ]
    },
    {
     "name": "stdin",
     "output_type": "stream",
     "text": [
      "Scrivi una stringa da riassumere che contenga piu di 6 caratteri:  olè\n"
     ]
    },
    {
     "name": "stdout",
     "output_type": "stream",
     "text": [
      "la stringa è troppo corta, per favore scriverne un altra\n"
     ]
    },
    {
     "name": "stdin",
     "output_type": "stream",
     "text": [
      "Scrivi una stringa da riassumere che contenga piu di 6 caratteri:  supercalifragili\n"
     ]
    },
    {
     "name": "stdout",
     "output_type": "stream",
     "text": [
      "sup  ...  ili\n"
     ]
    }
   ],
   "source": [
    "# Esercizio 7: Scriviamo un programma che chiede in input all'utente una stringa e visualizza i primi 3 caratteri, \n",
    "# seguiti da 3 punti di sospensione e quindi gli ultimi 3 caratteri, similmente all'esercizio della lezione scorsa. \n",
    "# Stavolta facciamo attenzione a tutti i casi particolari, ovvero implementare soluzioni ad hoc per stringhe di lunghezza inferiore a 6 caratteri.\n",
    "\n",
    "frase = input(\"Scrivi una stringa da riassumere che contenga piu di 6 caratteri: \")\n",
    "\n",
    "while len(frase) < 6:\n",
    "    \n",
    "    print(\"la stringa è troppo corta, per favore scriverne un altra\")\n",
    "    frase = input(\"Scrivi una stringa da riassumere che contenga piu di 6 caratteri: \")\n",
    "    \n",
    "    prime = frase[0:3]\n",
    "    ultime = frase[-3:]\n",
    "    \n",
    "print(prime, \" ... \", ultime)"
   ]
  },
  {
   "cell_type": "code",
   "execution_count": 13,
   "id": "906816fa-cbb2-4482-a5cc-7b6a4e968842",
   "metadata": {},
   "outputs": [
    {
     "name": "stdin",
     "output_type": "stream",
     "text": [
      "inserire un numero intero POSITIVO di cui trovare i fattoriali:  150\n"
     ]
    },
    {
     "name": "stdout",
     "output_type": "stream",
     "text": [
      "150 divisore: 2\n",
      "75 divisore: 3\n",
      "25 divisore: 5\n",
      "5 divisore: 5\n",
      "[2, 3, 5, 5]\n"
     ]
    }
   ],
   "source": [
    "# Esercizio 8: Memorizza e stampa tutti i fattori di un numero dato in input. \n",
    "# Esempio: • input: 150 • output: [2, 3, 5, 5]\n",
    "numero = int(input(\"inserire un numero intero POSITIVO di cui trovare i fattoriali: \"))\n",
    "lista_fattori = []\n",
    "\n",
    "while numero < 1:\n",
    "    print(\"riscrivere numero\")\n",
    "    numero = int(input(\"inserire un numero intero POSITIVO di cui trovare i fattoriali: \"))\n",
    "    \n",
    "divisore = 2\n",
    "while numero > 1:\n",
    "    if numero % divisore == 0:\n",
    "        print (numero , \"divisore:\" , divisore)\n",
    "        lista_fattori.append(divisore)\n",
    "        numero = numero // divisore\n",
    "    else:\n",
    "        divisore += 1\n",
    "print(lista_fattori)"
   ]
  },
  {
   "cell_type": "code",
   "execution_count": 82,
   "id": "db05b0ca-fec2-4705-b408-8bdd6200af0a",
   "metadata": {},
   "outputs": [
    {
     "name": "stdout",
     "output_type": "stream",
     "text": [
      "E\n",
      "p\n",
      "i\n",
      "c\n",
      "o\n",
      "d\n",
      "e\n"
     ]
    }
   ],
   "source": [
    "# Esercizio 9: Abbiamo la stringa: \n",
    "nome_scuola = \"Epicode\"\n",
    "# Stampare ogni carattere della stringa, uno su ogni riga, utilizzando un costrutto for.\n",
    "\n",
    "for spelling in nome_scuola:\n",
    "    print (spelling)"
   ]
  },
  {
   "cell_type": "code",
   "execution_count": 94,
   "id": "1672c7bc-76ac-4412-8b6a-cfdcd007a436",
   "metadata": {},
   "outputs": [
    {
     "name": "stdout",
     "output_type": "stream",
     "text": [
      "2\n",
      "4\n",
      "8\n",
      "16\n",
      "32\n",
      "64\n",
      "128\n",
      "256\n",
      "512\n",
      "1024\n"
     ]
    }
   ],
   "source": [
    "# Esercizio 10: Calcolare e stampare tutte le prime 10 potenze di 2 utilizzando un ciclo. \n",
    "#Utilizzeremo: • un ciclo per generare i primi 10 numeri, e.g.: \n",
    "range_numerico = list()  # init \n",
    "num = 1  # init \n",
    "while num <= 10: \n",
    "    range_numerico.append(num) \n",
    "    num += 1\n",
    "\n",
    "for x in range_numerico:\n",
    "    risultati = 2**x\n",
    "    print(risultati)                   # NON SONO SICURO DI AVER AUMENTATO L'INDICE DELLA ANDANDO A PRENDERE IL VALORE SUCCESSIVO O SE SEMPLICEMENTE HA SOMMATO DI 1 OGNI VOLTA"
   ]
  },
  {
   "cell_type": "code",
   "execution_count": 104,
   "id": "e547819e-6941-43ca-8e9c-b3cfe36487c2",
   "metadata": {},
   "outputs": [
    {
     "name": "stdin",
     "output_type": "stream",
     "text": [
      "Inserire le prime tot potenze: 10\n",
      "Numero da elevare: 2\n"
     ]
    },
    {
     "name": "stdout",
     "output_type": "stream",
     "text": [
      "[1, 2, 4, 8, 16, 32, 64, 128, 256, 512]\n"
     ]
    }
   ],
   "source": [
    "# Esercizio 11: Calcolare (ma non stampare) le prime N potenze di K; ognuna di esse andrà memorizzata in coda a una lista.\n",
    "# Alla fine, stampare la lista risultante. Proviamo con diversi valori di K, oppure facciamola inserire all'utente.\n",
    "# Realizzare due versioni: • con un ciclo while, • con un ciclo for.\n",
    "\n",
    "# CICLO WHILE:\n",
    "N = int(input(\"Inserire le prime tot potenze:\"))\n",
    "K = int(input(\"Numero da elevare:\"))\n",
    "potenza = 0\n",
    "lista_potenze = []\n",
    "\n",
    "while potenza < N:\n",
    "    risultato = pow(K,potenza)\n",
    "    potenza += 1\n",
    "    lista_potenze.append(risultato)\n",
    "print(lista_potenze)\n"
   ]
  },
  {
   "cell_type": "code",
   "execution_count": 105,
   "id": "f5e47e00-7f9a-482e-97cc-cbdab371d29a",
   "metadata": {},
   "outputs": [
    {
     "name": "stdin",
     "output_type": "stream",
     "text": [
      "Inserire le prime tot potenze: 10\n",
      "Numero da elevare: 2\n"
     ]
    },
    {
     "name": "stdout",
     "output_type": "stream",
     "text": [
      "[1, 2, 4, 8, 16, 32, 64, 128, 256, 512]\n"
     ]
    }
   ],
   "source": [
    "# CICLO FOR:\n",
    "N = int(input(\"Inserire le prime tot potenze:\"))\n",
    "K = int(input(\"Numero da elevare:\"))\n",
    "lista_potenze = []\n",
    "\n",
    "for potenza in range (N):\n",
    "    risultato = pow(K,potenza)\n",
    "    lista_potenze.append(risultato)\n",
    "print(lista_potenze)\n"
   ]
  },
  {
   "cell_type": "code",
   "execution_count": 102,
   "id": "0eb26091-65d3-447a-bc1e-ddff0488917d",
   "metadata": {},
   "outputs": [
    {
     "name": "stdout",
     "output_type": "stream",
     "text": [
      "70.0\n"
     ]
    }
   ],
   "source": [
    "# Esercizio 12: Abbiamo una lista con i guadagni degli ultimi 12 mesi: \n",
    "guadagni = [100, 90, 70, 40, 50, 80, 90, 120, 80, 20, 50, 50] \n",
    "# usando un costrutto for, calcolare la media dei guadagni e stamparla a video.\n",
    "somma = 0\n",
    "\n",
    "for x in guadagni:\n",
    "    somma += x \n",
    "media = somma / len(guadagni)\n",
    "print(media)"
   ]
  },
  {
   "cell_type": "code",
   "execution_count": 14,
   "id": "41400e08-9389-4b6f-a143-7a33414f67b8",
   "metadata": {},
   "outputs": [
    {
     "name": "stdout",
     "output_type": "stream",
     "text": [
      "Nella parola:  Albergo  - appaiono  1  volte le lettere e\n",
      "Nella parola:  Sedia  - appaiono  1  volte le lettere e\n",
      "Nella parola:  Borgo  - appaiono  0  volte le lettere e\n",
      "Nella parola:  Petalo  - appaiono  1  volte le lettere e\n",
      "Nella parola:  Eremo  - appaiono  2  volte le lettere e\n",
      "Nella parola:  Belvedere  - appaiono  4  volte le lettere e\n",
      "Nella parola:  Semestre  - appaiono  3  volte le lettere e\n",
      "Nella parola:  Esteta  - appaiono  2  volte le lettere e\n",
      "Nella parola:  Sosta  - appaiono  0  volte le lettere e\n",
      "Nella parola:  Orpello  - appaiono  1  volte le lettere e\n",
      "Nella parola:  Abete  - appaiono  2  volte le lettere e\n",
      "Nella parola:  Orologio  - appaiono  0  volte le lettere e\n",
      "Nella parola:  Cesta  - appaiono  1  volte le lettere e\n",
      "Nella parola:  Ermellino  - appaiono  2  volte le lettere e\n"
     ]
    }
   ],
   "source": [
    "# Esercizio 13: Abbiamo una lista di parole: \n",
    "parole = [\"Albergo\", \"Sedia\", \"Borgo\", \"Petalo\", \"Eremo\", \"Belvedere\", \"Semestre\", \"Esteta\", \"Sosta\", \"Orpello\", \"Abete\", \"Orologio\", \"Cesta\", \"Ermellino\"] \n",
    "# stampiamo, per ogni parola, quante volte appare la lettera \"e\"; facciamo attenzione al fatto che appare sia maiuscola che minuscola. \n",
    "\n",
    "for parola in parole:\n",
    "    N = parola.count(\"e\") + parola.count(\"E\")\n",
    "    print(\"Nella parola: \", parola, \" - appaiono \", N, \" volte le lettere e\")\n",
    "    "
   ]
  },
  {
   "cell_type": "code",
   "execution_count": 36,
   "id": "16b1061a-a052-4cee-94d4-98d2e5f45b7b",
   "metadata": {},
   "outputs": [
    {
     "name": "stdout",
     "output_type": "stream",
     "text": [
      "{'Ada': 'Punto', 'Ben': 'Multipla', 'Charlie': 'Golf', 'Debbie': '107'}\n",
      "107\n"
     ]
    }
   ],
   "source": [
    "# Esercizio 14: Creiamo un dizionario che assegni ad ogni proprietario la sua auto, sapendo che: \n",
    "# Ada guida una Punto \n",
    "# Ben guida una Multipla \n",
    "# Charlie guida una Golf \n",
    "# Debbie guida una 107 \n",
    "# Stampiamo il dizionario per intero, e poi l'auto associata a Debbie.\n",
    "\n",
    "Assegnazione_veicoli = {'Ada' : 'Punto',\n",
    "                        'Ben' : 'Multipla',\n",
    "                        'Charlie' : 'Golf',\n",
    "                        'Debbie' : '107'}\n",
    "\n",
    "print(Assegnazione_veicoli)\n",
    "print(Assegnazione_veicoli['Debbie'])\n"
   ]
  },
  {
   "cell_type": "code",
   "execution_count": 46,
   "id": "7042d428-a45e-4bcc-b9b2-5947be723971",
   "metadata": {},
   "outputs": [
    {
     "name": "stdout",
     "output_type": "stream",
     "text": [
      "Punto\n",
      "Golf\n",
      "107\n"
     ]
    }
   ],
   "source": [
    "# Esercizio 15: Abbiamo un dizionario che assegna ad ogni proprietario la sua auto: \n",
    "dizionario_auto = {\"Ada\": \"Punto\", \n",
    "                   \"Ben\": \"Multipla\", \n",
    "                   \"Charlie\": \"Golf\", \n",
    "                   \"Debbie\": \"107\"} \n",
    "# Con un ciclo, e usando il metodo .values(), stampiamo a video tutte le auto che non sono una Multipla.\n",
    "\n",
    "for chiave in dizionario_auto.values():\n",
    "    if chiave != \"Multipla\":\n",
    "        print(chiave)\n"
   ]
  },
  {
   "cell_type": "code",
   "execution_count": 49,
   "id": "2d6044b8-4c8d-4dc1-b7a2-b91a96bf8cf5",
   "metadata": {},
   "outputs": [
    {
     "name": "stdout",
     "output_type": "stream",
     "text": [
      "dict_items([('Ada', 'Punto'), ('Ben', 'Polo'), ('Charlie', 'Golf'), ('Debbie', '107'), ('Emily', 'A1'), ('Fred', 'Octavia'), ('Grace', 'Yaris'), ('Hugh', 'Clio')])\n"
     ]
    }
   ],
   "source": [
    "# Esercizio 16: Abbiamo due dizionari che assegnano ad ogni proprietario la propria auto: \n",
    "dizionario_auto = {\"Ada\": \"Punto\", \n",
    "                   \"Ben\": \"Multipla\", \n",
    "                   \"Charlie\": \"Golf\", \n",
    "                   \"Debbie\": \"107\", \n",
    "                   \"Emily\": \"A1\"} \n",
    "\n",
    "nuovi_proprietari = {\"Ben\": \"Polo\", \n",
    "                     \"Fred\": \"Octavia\", \n",
    "                     \"Grace\": \"Yaris\", \n",
    "                     \"Hugh\": \"Clio\"} \n",
    "# Aggiornare il dizionario \"dizionario_auto\" con i dati contenuti in nuovi_proprietari e stamparlo. Cosa è successo a Ben?\n",
    "\n",
    "dizionario_auto.update(nuovi_proprietari)\n",
    "print(dizionario_auto.items())\n"
   ]
  },
  {
   "cell_type": "markdown",
   "id": "83152228-2c12-48e0-abe7-9e9dc0d131a3",
   "metadata": {},
   "source": [
    "**Esercizio 17: Osservando la sintassi dei dizionari, possiamo notare qualche affinità con il formato JSON?**\n",
    "\n",
    "*RISPOSTA: si la sintassi è pressocchè simile o identica*"
   ]
  },
  {
   "cell_type": "code",
   "execution_count": 16,
   "id": "30cdb612-d711-4aab-9e27-c6628b31d314",
   "metadata": {},
   "outputs": [
    {
     "name": "stdin",
     "output_type": "stream",
     "text": [
      "Inserire il numero di numeri di cui trovare il min ed il max: 10\n",
      "Inserire il range di partenza: 20\n",
      "Inserire il range finale: 50\n"
     ]
    },
    {
     "name": "stdout",
     "output_type": "stream",
     "text": [
      "[26, 26, 39, 36, 44, 26, 41, 27, 20, 47] \n",
      "\n",
      "Il numero più piccolo è:  20 \n",
      " Il numero più grande è:  47\n"
     ]
    }
   ],
   "source": [
    "# Esercizio 18: Scrivere un programma che, data una lista di numeri, fornisca in output il minimo e il massimo \n",
    "# (possiamo usare o meno le funzioni built-in min() e max()).\n",
    "\n",
    "import random\n",
    "utente = int(input(\"Inserire il numero di numeri di cui trovare il min ed il max:\"))\n",
    "range_1 = int(input(\"Inserire il range di partenza:\"))\n",
    "range_2 = int(input(\"Inserire il range finale:\"))\n",
    "lista_numeri = []\n",
    "\n",
    "for numero in range(0,utente):\n",
    "    r = random.randint(range_1, range_2)\n",
    "    lista_numeri.append(r)\n",
    "print(lista_numeri, \"\\n\")\n",
    "\n",
    "print(\"Il numero più piccolo è: \", min(lista_numeri), \"\\n\", \"Il numero più grande è: \", max(lista_numeri))\n"
   ]
  },
  {
   "cell_type": "code",
   "execution_count": 18,
   "id": "b02041a4-95e4-44bb-a092-52c324466509",
   "metadata": {},
   "outputs": [
    {
     "name": "stdin",
     "output_type": "stream",
     "text": [
      "Inserire la quantità di numeri di cui trovare i 3 più grandi: 10\n",
      "Inserire il range di partenza: 50\n",
      "Inserire il range finale: 1000\n"
     ]
    },
    {
     "name": "stdout",
     "output_type": "stream",
     "text": [
      "[232, 55, 575, 78, 181, 309, 364, 356, 780, 891] \n",
      "\n",
      "I 3 numeri più grandi sono:  [891, 780, 575]\n"
     ]
    }
   ],
   "source": [
    "# Esercizio 19: Scrivere un programma che, data una lista di numeri, fornisca in output i tre numeri più grandi; \n",
    "# gestire il caso in cui la lista sia più corta di tre, e quando uno o più dei numeri selezionati sono uguali.\n",
    "# METODO 1 CON NUMERI RANDOMICI:\n",
    "\n",
    "import random\n",
    "\n",
    "utente = int(input(\"Inserire la quantità di numeri di cui trovare i 3 più grandi:\"))\n",
    "\n",
    "while utente <= 3:\n",
    "    print(\"Devi inserire una quantità maggiore di 3\")\n",
    "    utente = int(input(\"Inserire la quantità di numeri di cui trovare il min ed il max:\"))\n",
    "    \n",
    "range_1 = int(input(\"Inserire il range di partenza:\"))\n",
    "range_2 = int(input(\"Inserire il range finale:\"))\n",
    "\n",
    "lista_numeri = []\n",
    "\n",
    "for x in range(0, utente):                 #PER LA CREAZIONE DEI NUMERI\n",
    "    n = random.randint(range_1, range_2)                \n",
    "    while n in lista_numeri:                      #PER EVITARE I DOPPIONI\n",
    "        n = random.randint(range_1, range_2)\n",
    "    lista_numeri.append(n)\n",
    "print(lista_numeri, \"\\n\")\n",
    "\n",
    "print(\"I 3 numeri più grandi sono: \", sorted(lista_numeri, reverse = True) [:3])\n"
   ]
  },
  {
   "cell_type": "code",
   "execution_count": 1,
   "id": "d59613fc-caa8-4d7e-b2a4-8fe4e683f481",
   "metadata": {},
   "outputs": [
    {
     "name": "stdin",
     "output_type": "stream",
     "text": [
      "Inserire la quantità di numeri da scrivere: 10\n",
      "Scrivere il numero che analizzeremo: 5\n",
      "Scrivere il numero che analizzeremo: 6\n",
      "Scrivere il numero che analizzeremo: 6\n"
     ]
    },
    {
     "name": "stdout",
     "output_type": "stream",
     "text": [
      "Hai ripetuto un numero, scrivi numeri tutti diversi:\n"
     ]
    },
    {
     "name": "stdin",
     "output_type": "stream",
     "text": [
      "Scrivere il numero che analizzeremo: 6\n"
     ]
    },
    {
     "name": "stdout",
     "output_type": "stream",
     "text": [
      "Hai ripetuto un numero, scrivi numeri tutti diversi:\n"
     ]
    },
    {
     "name": "stdin",
     "output_type": "stream",
     "text": [
      "Scrivere il numero che analizzeremo: 2\n",
      "Scrivere il numero che analizzeremo: 1\n",
      "Scrivere il numero che analizzeremo: 1\n"
     ]
    },
    {
     "name": "stdout",
     "output_type": "stream",
     "text": [
      "Hai ripetuto un numero, scrivi numeri tutti diversi:\n"
     ]
    },
    {
     "name": "stdin",
     "output_type": "stream",
     "text": [
      "Scrivere il numero che analizzeremo: 3\n",
      "Scrivere il numero che analizzeremo: 8\n",
      "Scrivere il numero che analizzeremo: 9\n",
      "Scrivere il numero che analizzeremo: 12\n",
      "Scrivere il numero che analizzeremo: 20\n",
      "Scrivere il numero che analizzeremo: 20\n"
     ]
    },
    {
     "name": "stdout",
     "output_type": "stream",
     "text": [
      "Hai ripetuto un numero, scrivi numeri tutti diversi:\n"
     ]
    },
    {
     "name": "stdin",
     "output_type": "stream",
     "text": [
      "Scrivere il numero che analizzeremo: 30\n"
     ]
    },
    {
     "name": "stdout",
     "output_type": "stream",
     "text": [
      "[5, 6, 2, 1, 3, 8, 9, 12, 20, 30] \n",
      "\n",
      "I 3 numeri più grandi sono:  [30, 20, 12]\n"
     ]
    }
   ],
   "source": [
    "# METODO 2, INSERIMENTO A MANO:\n",
    "\n",
    "utente = int(input(\"Inserire la quantità di numeri da scrivere:\"))\n",
    "lista_numeri = []\n",
    "\n",
    "for x in range (0 , utente):\n",
    "    numero = int(input(\"Scrivere il numero che analizzeremo:\"))\n",
    "    while numero in lista_numeri:\n",
    "        print(\"Hai ripetuto un numero, scrivi numeri tutti diversi:\")\n",
    "        numero = int(input(\"Scrivere il numero che analizzeremo:\"))\n",
    "    lista_numeri.append(numero)\n",
    "    \n",
    "print(lista_numeri, \"\\n\")\n",
    "\n",
    "print(\"I 3 numeri più grandi sono: \", sorted(lista_numeri , reverse = True)[:3])\n"
   ]
  },
  {
   "cell_type": "code",
   "execution_count": 5,
   "id": "2116ca22-61a5-4a7e-ac80-aacb720e5af6",
   "metadata": {},
   "outputs": [
    {
     "name": "stdin",
     "output_type": "stream",
     "text": [
      "Quantità di numeri da inserire nella lista: 5\n",
      "Inserire il range di partenza: 1\n",
      "Inserire il range finale: 20\n",
      "Inserire il numero K: 40\n"
     ]
    },
    {
     "name": "stdout",
     "output_type": "stream",
     "text": [
      "[2, 17, 8, 5, 16] \n",
      " 40 \n",
      "\n",
      "Somma dei numeri maggiori o uguali a K: 0 \n",
      "\n",
      "Non ci sono numeri in lista maggiori o uguali a K\n"
     ]
    }
   ],
   "source": [
    "# Esercizio 20: Scrivere un programma che \n",
    "# • in input acquisisce una lista di numeri e un numero K \n",
    "# • in output, dovrà restituire la media di tutti i numeri nella lista maggiori o uguali a K \n",
    "# • se non ce ne dovesse essere nessuno, dovrà stampare a schermo un messaggio adeguato.\n",
    "import random\n",
    "lista_numeri = []\n",
    "\n",
    "n_lista = int(input(\"Quantità di numeri da inserire nella lista:\"))\n",
    "range_partenza = int(input(\"Inserire il range di partenza:\"))\n",
    "range_finale = int(input(\"Inserire il range finale:\"))\n",
    "\n",
    "# SI PUO SCRIVERE A MANO: \n",
    "# K = int(input(\"Scrivere il numero K:\"))   \n",
    "# OPPURE SI PUO RENDERLO AUTOMATICO: \n",
    "K = int(input(\"Inserire il numero K:\"))\n",
    "\n",
    "for x in range(0 , n_lista):\n",
    "    n = random.randint(range_partenza , range_finale)\n",
    "    lista_numeri.append(n)\n",
    "    \n",
    "print(lista_numeri, \"\\n\" , K , \"\\n\")\n",
    "\n",
    "somma = 0\n",
    "conteggio = 0\n",
    "\n",
    "for i in lista_numeri:\n",
    "    if i >= K:\n",
    "        somma += i\n",
    "        conteggio += 1\n",
    "\n",
    "print(\"Somma dei numeri maggiori o uguali a K:\" , somma , \"\\n\")\n",
    "\n",
    "if conteggio > 0:\n",
    "    print(\"Conteggio dei numeri in lista maggiori o uguali a K:\" , conteggio , \"\\n\")\n",
    "    media = somma / conteggio\n",
    "    print(\"La media dei numeri randomici maggiori o uguali a K è:\" , media)\n",
    "else:\n",
    "    print(\"Non ci sono numeri in lista maggiori o uguali a K\")\n"
   ]
  },
  {
   "cell_type": "code",
   "execution_count": 134,
   "id": "dd34ffe1-5b19-4105-a08c-84ddc8afd4db",
   "metadata": {},
   "outputs": [
    {
     "name": "stdin",
     "output_type": "stream",
     "text": [
      "Quantità di numeri da inserire nella lista: 5\n",
      "Inserire il range di partenza: 1\n",
      "Inserire il range finale: 10\n"
     ]
    },
    {
     "name": "stdout",
     "output_type": "stream",
     "text": [
      "[1, 3, 6, 7, 4] \n",
      "\n",
      "*\n",
      "***\n",
      "******\n",
      "*******\n",
      "****\n"
     ]
    }
   ],
   "source": [
    "# Esercizio 21: Scrivere un programma che, data una lista di numeri, come output stamperà lo stesso numero di asterischi su righe diverse, \n",
    "# ottenendo una semplice visualizzazione grafica. \n",
    "# Esempio, supponendo di avere il seguente input: numeri = [5, 2, 3, 4] | L'output sarà: ***** ** *** ****\n",
    "import random\n",
    "lista_numeri = []\n",
    "\n",
    "quantita = int(input(\"Quantità di numeri da inserire nella lista:\"))\n",
    "range_partenza = int(input(\"Inserire il range di partenza:\"))\n",
    "range_finale = int(input(\"Inserire il range finale:\"))\n",
    "\n",
    "for x in range(0 , quantita):\n",
    "    numeri = random.randint(range_partenza , range_finale)\n",
    "    lista_numeri.append(numeri)\n",
    "\n",
    "print(lista_numeri , \"\\n\")\n",
    "\n",
    "for asterischi in lista_numeri:\n",
    "        print(\"*\" * asterischi)\n"
   ]
  },
  {
   "cell_type": "code",
   "execution_count": 171,
   "id": "b27a8de2-3028-43cb-9ece-5f90c94df6f8",
   "metadata": {},
   "outputs": [
    {
     "name": "stdout",
     "output_type": "stream",
     "text": [
      "['ABCDEF95G01A123B', 'STUVWX95Z04A654E', 'DEFGHI95J06A987G']\n",
      "Codice Fiscale: ABCDEF95G01A123B Nome ABC Cognome DEF\n",
      "Codice Fiscale: STUVWX95Z04A654E Nome STU Cognome VWX\n",
      "Codice Fiscale: DEFGHI95J06A987G Nome DEF Cognome GHI\n"
     ]
    }
   ],
   "source": [
    "# Esercizio 22: Abbiamo una lista di codici fiscali: \n",
    "lista_cf = [\"ABCDEF95G01A123B\", \"GHIJKL91M02A321C\", \"MNOPQR89S03A456D\", \"STUVWX95Z04A654E\", \"XYZABC01D05A789F\", \"DEFGHI95J06A987G\"] \n",
    "# • trovare i codici fiscali che contengono \"95\", metterli in una lista, e alla fine stamparla; \n",
    "# • inoltre, per ognuno di essi, stampare a video i caratteri relativi al nome e quelli relativi al cognome.\n",
    "lista_cf_95 = []\n",
    "\n",
    "for cf in lista_cf:\n",
    "    if \"95\" in cf:\n",
    "        lista_cf_95.append(cf)\n",
    "\n",
    "print(lista_cf_95)\n",
    "\n",
    "for cf_95 in lista_cf_95:\n",
    "    nome = cf_95[0:3]\n",
    "    cognome = cf_95[3:6]\n",
    "    print(\"Codice Fiscale:\" , cf_95 , \"Nome\" , nome , \"Cognome\" , cognome)\n"
   ]
  },
  {
   "cell_type": "code",
   "execution_count": 7,
   "id": "9af2b79b-b83d-480f-b897-f543dadad575",
   "metadata": {},
   "outputs": [
    {
     "name": "stdout",
     "output_type": "stream",
     "text": [
      "Alex\n",
      "Faith\n"
     ]
    }
   ],
   "source": [
    "# Esercizio 23: Abbiamo tre liste della stessa lunghezza, dove ogni elemento nella medesima posizione si riferisce ai dati dello stesso studente: \n",
    "studenti = [\"Alex\", \"Bob\", \"Cindy\", \"Dan\", \"Emma\", \"Faith\", \"Grace\", \"Henry\"] \n",
    "corsi = [\"Cybersecurity\", \"Data Analyst\", \"Backend\", \"Frontend\", \"Data Analyst\", \"Backend\", \"Frontend\", \"Cybersecurity\"] \n",
    "edizioni = [1, 2, 3, 2, 2, 1, 3, 3] \n",
    "# • Stampare a video solamente tutti gli studenti che frequentano una prima edizione; non tutti i dati potrebbero essere necessari. \n",
    "# • Riuscite a vedere una similarità con la logica che si usa in SQL e le tabelle relazionali?\n",
    "\n",
    "for index in range(len(studenti)):\n",
    "    if edizioni[index] == 1:\n",
    "        print(studenti[index])\n"
   ]
  },
  {
   "cell_type": "code",
   "execution_count": 101,
   "id": "fcd513af-7c9e-4a3b-a420-3c11574bf2e4",
   "metadata": {},
   "outputs": [
    {
     "name": "stdout",
     "output_type": "stream",
     "text": [
      "['100 $', '200 $', '500 $', '10 $', '50 $', '70 $']\n"
     ]
    }
   ],
   "source": [
    "# Esercizio 24: Abbiamo una lista di stringhe di prezzi in dollari, che erroneamente sono stati scritti con il simbolo dell'euro:\n",
    "prezzi = [\"100 €\", \"200 €\", \"500 €\", \"10 €\", \"50 €\", \"70 €\"] \n",
    "# cambiare il simbolo dell'euro (€) in quello del dollaro ($) per ogni stringa nella lista; il risultato sarà memorizzato in un'altra lista.\n",
    "# METODO 1 AUTOMATICO:\n",
    "prezzi_dollari = []\n",
    "\n",
    "for euro in prezzi:\n",
    "    sostituzione = euro.replace(\"€\" , \"$\")\n",
    "    prezzi_dollari.append(sostituzione)\n",
    "\n",
    "print(prezzi_dollari)\n"
   ]
  },
  {
   "cell_type": "code",
   "execution_count": 8,
   "id": "0e5212a9-d7ae-4e3f-9613-f63d48b695c4",
   "metadata": {},
   "outputs": [
    {
     "name": "stdout",
     "output_type": "stream",
     "text": [
      "['100 €', '200 €', '500 €', '10 €', '50 €', '70 €']\n",
      "['100 $', '200 $', '500 $', '10 $', '50 $', '70 $']\n"
     ]
    }
   ],
   "source": [
    "# Esercizio 24: Abbiamo una lista di stringhe di prezzi in dollari, che erroneamente sono stati scritti con il simbolo dell'euro:\n",
    "prezzi = [\"100 €\", \"200 €\", \"500 €\", \"10 €\", \"50 €\", \"70 €\"] \n",
    "# cambiare il simbolo dell'euro (€) in quello del dollaro ($) per ogni stringa nella lista; il risultato sarà memorizzato in un'altra lista.\n",
    "# METODO 2 A MANO:\n",
    "prezzi_dollari = []\n",
    "\n",
    "for euro in range(0 , len(prezzi)):\n",
    "    prezzi_dollari.append(prezzi[euro][0:-1] + \"$\")\n",
    "\n",
    "print(prezzi)\n",
    "print(prezzi_dollari)\n",
    "    "
   ]
  },
  {
   "cell_type": "code",
   "execution_count": 232,
   "id": "0c9d309f-8e27-48ce-9f77-c049df3c3342",
   "metadata": {},
   "outputs": [
    {
     "name": "stdout",
     "output_type": "stream",
     "text": [
      "Squadra pari: ['Alex', 'Cindy', 'Emma', 'Grace', 'Isabelle']\n",
      "Squadra dispari: ['Bob', 'Dan', 'Faith', 'Henry', 'John']\n"
     ]
    }
   ],
   "source": [
    "# Esercizio 25: Abbiamo una lista di studenti: \n",
    "studenti = [\"Alex\", \"Bob\", \"Cindy\", \"Dan\", \"Emma\", \"Faith\", \"Grace\", \"Henry\", \"Isabelle\", \"John\"] \n",
    "# vogliamo dividere gli studenti in due squadre per un campionato di Uno nel seguente modo: \n",
    "# selezioneremo i nomi in posizione pari per un squadra, e i nomi in posizione dispari per l'altra.\n",
    "# Creiamo due liste per ogni squadra, e alla fine visualizziamole.\n",
    "\n",
    "indici_pari = studenti[::2]\n",
    "print(\"Squadra pari:\" , indici_pari)\n",
    "\n",
    "indici_dispari = studenti[1::2]\n",
    "print(\"Squadra dispari:\" , indici_dispari)\n"
   ]
  },
  {
   "cell_type": "code",
   "execution_count": 83,
   "id": "883f48c1-9dcf-47f4-865a-087d9772ffa2",
   "metadata": {},
   "outputs": [
    {
     "name": "stdout",
     "output_type": "stream",
     "text": [
      "Il guadagno è: 100 - Non ci sono mensilità precedenti\n",
      "Il guadagno è: 90 - Media precedente: 100\n",
      "Il guadagno attuale è maggiore\n",
      "Il guadagno è: 70 - Media precedente: 95\n",
      "il guadagno attuale è minore\n",
      "Il guadagno è: 40 - Media precedente: 87\n",
      "il guadagno attuale è minore\n",
      "Il guadagno è: 50 - Media precedente: 75\n",
      "il guadagno attuale è minore\n",
      "Il guadagno è: 80 - Media precedente: 70\n",
      "Il guadagno attuale è maggiore\n",
      "Il guadagno è: 90 - Media precedente: 72\n",
      "Il guadagno attuale è maggiore\n",
      "Il guadagno è: 120 - Media precedente: 74\n",
      "Il guadagno attuale è maggiore\n",
      "Il guadagno è: 80 - Media precedente: 80\n",
      "il guadagno attuale è uguale\n",
      "Il guadagno è: 20 - Media precedente: 80\n",
      "il guadagno attuale è minore\n",
      "Il guadagno è: 50 - Media precedente: 74\n",
      "il guadagno attuale è minore\n",
      "Il guadagno è: 50 - Media precedente: 72\n",
      "il guadagno attuale è minore\n"
     ]
    }
   ],
   "source": [
    "# Esercizio 26: Abbiamo una lista con i guadagni degli ultimi 12 mesi (supponiamo da Gennaio a Dicembre): \n",
    "guadagni = [100, 90, 70, 40, 50, 80, 90, 120, 80, 20, 50, 50] \n",
    "# dobbiamo confrontare, stampando tutto a video, il guadagno di ogni mese con la media dei guadagni precedenti, \n",
    "# e specificare nell'output se il guadagno attuale è maggiore o minore della media dei precedenti. \n",
    "# Esempio di un possibile output: \n",
    "# Mese 1: 100 € Mese 2: 90 € (media prec: 100 € - il guadagno attuale è minore) Mese 3: 70 € (media prec: 95 € - il guadagno attuale è minore)\n",
    "#METODO 1:\n",
    "indice = 0 \n",
    "\n",
    "for mensilita in guadagni:\n",
    "    if indice == 0:\n",
    "        print(\"Il guadagno è:\" , mensilita , \"- Non ci sono mensilità precedenti\")\n",
    "        \n",
    "    elif indice == 1:\n",
    "        print(\"Il guadagno è:\" , mensilita , \"- Media precedente:\" , guadagni[0])\n",
    "        \n",
    "        if mensilita < media_precedente:\n",
    "            print(\"il guadagno attuale è minore\")\n",
    "        elif mensilita == media_precedente:\n",
    "            print(\"il guadagno attuale è uguale\")\n",
    "        else:\n",
    "            print(\"Il guadagno attuale è maggiore\")\n",
    "            \n",
    "    else:\n",
    "        media_precedente = sum(guadagni[:indice])/len(guadagni[:indice])\n",
    "        print(\"Il guadagno è:\" , mensilita , \"- Media precedente:\" , round(media_precedente))\n",
    "        \n",
    "        if mensilita < media_precedente:\n",
    "            print(\"il guadagno attuale è minore\")\n",
    "        elif mensilita == media_precedente:\n",
    "            print(\"il guadagno attuale è uguale\")\n",
    "        else:\n",
    "            print(\"Il guadagno attuale è maggiore\")\n",
    "            \n",
    "    indice += 1\n"
   ]
  },
  {
   "cell_type": "code",
   "execution_count": 11,
   "id": "bba0feac-9b92-4b72-bbc9-3078d004fe1a",
   "metadata": {},
   "outputs": [
    {
     "name": "stdout",
     "output_type": "stream",
     "text": [
      "Il guadagno è: 100 - Media precedente: nan\n",
      "Il guadagno attuale è maggiore\n",
      "Il guadagno è: 90 - Media precedente: 100.0\n",
      "il guadagno attuale è minore\n",
      "Il guadagno è: 70 - Media precedente: 95.0\n",
      "il guadagno attuale è minore\n",
      "Il guadagno è: 40 - Media precedente: 86.66666666666667\n",
      "il guadagno attuale è minore\n",
      "Il guadagno è: 50 - Media precedente: 75.0\n",
      "il guadagno attuale è minore\n",
      "Il guadagno è: 80 - Media precedente: 70.0\n",
      "Il guadagno attuale è maggiore\n",
      "Il guadagno è: 90 - Media precedente: 71.66666666666667\n",
      "Il guadagno attuale è maggiore\n",
      "Il guadagno è: 120 - Media precedente: 74.28571428571429\n",
      "Il guadagno attuale è maggiore\n",
      "Il guadagno è: 80 - Media precedente: 80.0\n",
      "il guadagno attuale è uguale\n",
      "Il guadagno è: 20 - Media precedente: 80.0\n",
      "il guadagno attuale è minore\n",
      "Il guadagno è: 50 - Media precedente: 74.0\n",
      "il guadagno attuale è minore\n",
      "Il guadagno è: 50 - Media precedente: 71.81818181818181\n",
      "il guadagno attuale è minore\n"
     ]
    },
    {
     "name": "stderr",
     "output_type": "stream",
     "text": [
      "C:\\Users\\alfim\\AppData\\Local\\Temp\\ipykernel_21916\\668808511.py:9: RuntimeWarning: Mean of empty slice.\n",
      "  media_precedente = guadagni_array[0:indice].mean()\n"
     ]
    }
   ],
   "source": [
    "#METODO 2:\n",
    "guadagni = [100, 90, 70, 40, 50, 80, 90, 120, 80, 20, 50, 50] \n",
    "indice = 0 \n",
    "\n",
    "import numpy as np\n",
    "guadagni_array = np.array(guadagni)\n",
    "\n",
    "for mensilita in guadagni:\n",
    "    media_precedente = guadagni_array[0:indice].mean()\n",
    "    print(\"Il guadagno è:\" , mensilita , \"- Media precedente:\" , media_precedente)\n",
    "    \n",
    "    if mensilita < media_precedente:\n",
    "        print(\"il guadagno attuale è minore\")\n",
    "    elif mensilita == media_precedente:\n",
    "        print(\"il guadagno attuale è uguale\")\n",
    "    else:\n",
    "        print(\"Il guadagno attuale è maggiore\")  \n",
    "    indice += 1\n"
   ]
  },
  {
   "cell_type": "code",
   "execution_count": null,
   "id": "f366e2e8-ecaa-432a-a72d-fd9e6678db7a",
   "metadata": {},
   "outputs": [],
   "source": []
  }
 ],
 "metadata": {
  "kernelspec": {
   "display_name": "Python 3 (ipykernel)",
   "language": "python",
   "name": "python3"
  },
  "language_info": {
   "codemirror_mode": {
    "name": "ipython",
    "version": 3
   },
   "file_extension": ".py",
   "mimetype": "text/x-python",
   "name": "python",
   "nbconvert_exporter": "python",
   "pygments_lexer": "ipython3",
   "version": "3.12.7"
  }
 },
 "nbformat": 4,
 "nbformat_minor": 5
}
