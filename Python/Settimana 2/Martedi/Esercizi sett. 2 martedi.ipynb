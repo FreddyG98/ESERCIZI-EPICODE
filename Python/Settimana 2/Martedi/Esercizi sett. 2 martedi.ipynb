{
 "cells": [
  {
   "cell_type": "code",
   "execution_count": 4,
   "id": "9138e57f-14e8-491b-a029-afc1e3132d40",
   "metadata": {},
   "outputs": [
    {
     "name": "stdout",
     "output_type": "stream",
     "text": [
      "Questo proviene dalla prima lista: 2 \n",
      " Questo dalla seconda lista: 9 \n",
      " Questo dalla terza lista: 13\n"
     ]
    }
   ],
   "source": [
    "# Esercizio 1: Abbiamo una lista di liste: \n",
    "mat = [[0, 1, 2, 3, 4], [5, 6, 7, 8, 9], [10, 11, 12, 13, 14]] \n",
    "# Che tipo di struttura dati o matematica potrebbe rappresentare? \n",
    "# Notare che tutte le liste \"interne\" sono della stessa dimensione Come facciamo per accedere ad un elemento in particolare?\n",
    "\n",
    "print(\"Questo proviene dalla prima lista:\" , mat[0][2] , \"\\n\" , \n",
    "      \"Questo dalla seconda lista:\" , mat[1][-1] , \"\\n\" , \n",
    "      \"Questo dalla terza lista:\" , mat[2][3])"
   ]
  },
  {
   "cell_type": "code",
   "execution_count": 2,
   "id": "3bf01828-7954-4f41-a442-a4b94a766888",
   "metadata": {},
   "outputs": [
    {
     "name": "stdout",
     "output_type": "stream",
     "text": [
      "4 \n",
      "\n",
      "Questo è il seno: -0.7568024953079282 \n",
      "\n",
      "Questo è il coseno: -0.6536436208636119 \n",
      "\n",
      "Questo è il fattoriale: 24 \n",
      "\n",
      "Questo è il pi greco: 3.141592653589793\n"
     ]
    }
   ],
   "source": [
    "# Esercizio 2: Importiamo il modulo math e proviamo a usare le funzioni \n",
    "# .sin() \n",
    "# .cos() \n",
    "# .factorial() \n",
    "# e la variabile .pi la riconoscete?\n",
    "import random\n",
    "import math\n",
    "\n",
    "numero_r = random.randint(1 , 100)\n",
    "\n",
    "print(numero_r , \"\\n\")\n",
    "\n",
    "seno = math.sin(numero_r)\n",
    "print(\"Questo è il seno:\" , seno , \"\\n\")\n",
    "\n",
    "coseno = math.cos(numero_r)\n",
    "print(\"Questo è il coseno:\" , coseno , \"\\n\" )\n",
    "\n",
    "fattoriale = math.factorial(numero_r)\n",
    "print(\"Questo è il fattoriale:\" , fattoriale , \"\\n\")\n",
    "\n",
    "print(\"Questo è il pi greco:\" , math.pi)\n",
    "# RAPPRESENTA IL PI GRECO"
   ]
  },
  {
   "cell_type": "code",
   "execution_count": 31,
   "id": "58db73c9-ad60-4c95-8e86-165b3c8f58ab",
   "metadata": {},
   "outputs": [
    {
     "name": "stdout",
     "output_type": "stream",
     "text": [
      "Help on built-in function degrees in module math:\n",
      "\n",
      "degrees(x, /)\n",
      "    Convert angle x from radians to degrees.\n",
      "\n"
     ]
    }
   ],
   "source": [
    "# Esercizio 3: Proviamo a eseguire \n",
    "math.degrees(math.pi) \n",
    "# Qual è e cosa significa il risultato? Per saperne di più su questa funzione possiamo usare \n",
    "help(math.degrees)\n",
    "# CONVERTE GLI ANGOLI DA RADIANTI IN GRADI"
   ]
  },
  {
   "cell_type": "code",
   "execution_count": 50,
   "id": "7c3d30de-6611-4e28-95fa-86eb2148d53d",
   "metadata": {},
   "outputs": [
    {
     "name": "stdout",
     "output_type": "stream",
     "text": [
      "La vendita massima mensile è stata: 8150  e quella minima: 1280\n",
      "Le vendite maggiori di 4999 sono: [5500 7200 6410 8150 7100 5350]  e sono: 6\n",
      "Le vendite minori di 3000 sono: [2000 1280 1900 2500]  e sono: 4\n",
      "La media delle vendite mensile è: 4634\n"
     ]
    }
   ],
   "source": [
    "# Esercizio 4: L'azienda Object SpA ha creato una lista di quanti oggetti ha venduto ogni mese nell'ultimo anno: \n",
    "lst = [2000, 5500, 7200, 4320, 1280, 1900, 2500, 3900, 6410, 8150, 7100, 5350] \n",
    "# trasformiamola in un array NumPy (casting): \n",
    "import numpy as np\n",
    "lst = np.array(lst) \n",
    "# e rispondiamo alle domande del CEO della Object SpA: \n",
    "# • qual è stata la vendita massima mensile? E quella minima? \n",
    "# • quali sono le vendite mensili maggiori di 4999 oggetti? E quante ne sono? \n",
    "# • quali sono le vendite minori di 3000 oggetti? \n",
    "# • in media quanti oggetti sono stati venduti al mese?\n",
    "\n",
    "vendita_max = lst.max()\n",
    "vendita_min = lst.min()\n",
    "print(\"La vendita massima mensile è stata:\" , vendita_max , \" e quella minima:\" , vendita_min)\n",
    "\n",
    "vendite_alte = lst > 4999\n",
    "print(\"Le vendite maggiori di 4999 sono:\" , lst[vendite_alte] , \" e sono:\" , len(lst[vendite_alte]))\n",
    "\n",
    "vendite_basse = lst < 3000\n",
    "print(\"Le vendite minori di 3000 sono:\" , lst[vendite_basse] , \" e sono:\" , len(lst[vendite_basse]))\n",
    "\n",
    "vendite_media = round(lst.mean())\n",
    "print(\"La media delle vendite mensile è:\" , vendite_media)\n"
   ]
  },
  {
   "cell_type": "code",
   "execution_count": 51,
   "id": "40352bf7-f995-4d45-9fa5-fe1f7cdf9564",
   "metadata": {},
   "outputs": [
    {
     "data": {
      "text/plain": [
       "12000"
      ]
     },
     "execution_count": 51,
     "metadata": {},
     "output_type": "execute_result"
    }
   ],
   "source": [
    "# Esercizio 5: Consideriamo il seguente dizionario: \n",
    "import pandas as pd\n",
    "fatturati_dict = {1997: 12_000, \n",
    "                  1998: 15_000, \n",
    "                  1999: 20_000, \n",
    "                  2000: 23_000, \n",
    "                  2001: 25_000, \n",
    "                  2002: 17_000, \n",
    "                  2003: 14_000, \n",
    "                  2004: 21_000} \n",
    "# Consideriamo ora la seguente Series: \n",
    "fatturati_series = pd.Series([12_000, 15_000, 20_000, 23_000, 25_000, 17_000, 14_000, 21_000], index=range(1997, 2005)) \n",
    "# Possiamo accedere alle stesse informazioni nello stesso modo: \n",
    "fatturati_dict[1997] \n",
    "fatturati_series[1997] \n",
    "# Dunque qual è la differenza tra i due tipi di dato? Cosa potremmo fare con la Series che non possiamo fare con il dizionario?\n"
   ]
  },
  {
   "cell_type": "markdown",
   "id": "0b652bad-38ee-4365-adcb-bd890f5847b5",
   "metadata": {},
   "source": [
    "*RISPOSTA:* \n",
    "**Con una series è possibile cambiare il tipo di indicizzazione della lista una volta trasformata in series**"
   ]
  },
  {
   "cell_type": "code",
   "execution_count": 2,
   "id": "f307a3c2-9b53-49b9-a7a2-658c73086bcc",
   "metadata": {},
   "outputs": [
    {
     "name": "stdout",
     "output_type": "stream",
     "text": [
      "Metodo ciclo for:\n",
      "[200, 400, 600, 800, 1000, 1200, 1400, 1600, 1800, 2000]\n",
      "\n",
      "\n",
      "Metodo masking: [ 200  400  600  800 1000 1200 1400 1600 1800 2000]\n"
     ]
    }
   ],
   "source": [
    "# Esercizio 6: L'azienda Object SpA ha un dataset con tutti gli stipendi dei dipendenti, memorizzato in un ndarray: \n",
    "import numpy as np \n",
    "stipendi = np.array( [100, 200, 300, 400, 500,  600, 700, 800, 900, 1000] ) \n",
    "# L'azienda ci chiede di raddoppiare tutti gli stipendi; \n",
    "# facciamolo in due modi: \n",
    "# • con un ciclo for \n",
    "# • con il masking \n",
    "\n",
    "# METODO CICLO FOR: \n",
    "print(\"Metodo ciclo for:\")\n",
    "stipendi_raddoppiati = []\n",
    "for stipendio in stipendi:\n",
    "    stipendi_raddoppiati.append(stipendio *2)\n",
    "\n",
    "print(stipendi_raddoppiati)\n",
    "print(\"\\n\")\n",
    "\n",
    "# METODO MASKING: \n",
    "print(\"Metodo masking:\" , stipendi *2)\n"
   ]
  },
  {
   "cell_type": "code",
   "execution_count": null,
   "id": "865411b4-64de-422c-b4b0-390edf0ab2fc",
   "metadata": {},
   "outputs": [],
   "source": []
  }
 ],
 "metadata": {
  "kernelspec": {
   "display_name": "Python 3 (ipykernel)",
   "language": "python",
   "name": "python3"
  },
  "language_info": {
   "codemirror_mode": {
    "name": "ipython",
    "version": 3
   },
   "file_extension": ".py",
   "mimetype": "text/x-python",
   "name": "python",
   "nbconvert_exporter": "python",
   "pygments_lexer": "ipython3",
   "version": "3.12.7"
  }
 },
 "nbformat": 4,
 "nbformat_minor": 5
}
